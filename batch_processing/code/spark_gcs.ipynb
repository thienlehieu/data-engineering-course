{
 "cells": [
  {
   "cell_type": "code",
   "execution_count": 1,
   "id": "e4014c4c-ad93-41fd-a5de-a6fd9010b5b7",
   "metadata": {},
   "outputs": [],
   "source": [
    "import pyspark\n",
    "from pyspark.sql import SparkSession\n",
    "from pyspark.conf import SparkConf\n",
    "from pyspark.context import SparkContext"
   ]
  },
  {
   "cell_type": "code",
   "execution_count": 2,
   "id": "d4ca4bb0-f09d-4d58-89bf-1b77e6532753",
   "metadata": {},
   "outputs": [],
   "source": [
    "credentials_location = '/Users/admin/Downloads/swift-arcadia-387709-206aa59f5741.json'\n",
    "\n",
    "conf = SparkConf() \\\n",
    "    .setMaster('local[*]') \\\n",
    "    .setAppName('Monkey D.Luffy') \\\n",
    "    .set(\"spark.jars\", \"./lib/gcs-connector-hadoop3-latest.jar\") \\\n",
    "    .set(\"spark.hadoop.google.cloud.auth.service.account.enable\", \"true\") \\\n",
    "    .set(\"spark.hadoop.google.cloud.auth.service.account.json.keyfile\", credentials_location)"
   ]
  },
  {
   "cell_type": "code",
   "execution_count": 4,
   "id": "1d8b7033-d970-4f03-83d5-027283c63d8f",
   "metadata": {},
   "outputs": [
    {
     "name": "stderr",
     "output_type": "stream",
     "text": [
      "23/08/09 17:21:39 WARN Utils: Your hostname, ThienLes-MacBook-Pro.local resolves to a loopback address: 127.0.0.1; using 172.16.20.54 instead (on interface en0)\n",
      "23/08/09 17:21:39 WARN Utils: Set SPARK_LOCAL_IP if you need to bind to another address\n",
      "23/08/09 17:21:39 WARN NativeCodeLoader: Unable to load native-hadoop library for your platform... using builtin-java classes where applicable\n",
      "Setting default log level to \"WARN\".\n",
      "To adjust logging level use sc.setLogLevel(newLevel). For SparkR, use setLogLevel(newLevel).\n",
      "23/08/09 17:21:40 WARN Utils: Service 'SparkUI' could not bind on port 4040. Attempting port 4041.\n"
     ]
    }
   ],
   "source": [
    "sc = SparkContext(conf=conf)\n",
    "\n",
    "hadoop_conf = sc._jsc.hadoopConfiguration()\n",
    "\n",
    "hadoop_conf.set(\"fs.AbstractFileSystem.gs.impl\",  \"com.google.cloud.hadoop.fs.gcs.GoogleHadoopFS\")\n",
    "hadoop_conf.set(\"fs.gs.impl\", \"com.google.cloud.hadoop.fs.gcs.GoogleHadoopFileSystem\")\n",
    "hadoop_conf.set(\"fs.gs.auth.service.account.json.keyfile\", credentials_location)\n",
    "hadoop_conf.set(\"fs.gs.auth.service.account.enable\", \"true\")"
   ]
  },
  {
   "cell_type": "code",
   "execution_count": 5,
   "id": "ab4b399d-2f72-4435-9189-fc78b58e7666",
   "metadata": {},
   "outputs": [],
   "source": [
    "spark = SparkSession.builder \\\n",
    "    .config(conf=sc.getConf()) \\\n",
    "    .getOrCreate()"
   ]
  },
  {
   "cell_type": "code",
   "execution_count": 6,
   "id": "76e603e0-a576-484c-933f-078548bf9469",
   "metadata": {},
   "outputs": [
    {
     "name": "stderr",
     "output_type": "stream",
     "text": [
      "23/08/09 17:22:48 WARN GhfsStorageStatistics: Detected potential high latency for operation op_get_file_status. latencyMs=1067; previousMaxLatencyMs=0; operationCount=1; context=gs://dtc_data_lake_swift-arcadia-387709/data/pq/green/*/*\n",
      "23/08/09 17:22:48 WARN GhfsStorageStatistics: Detected potential high latency for operation op_glob_status. latencyMs=155; previousMaxLatencyMs=0; operationCount=1; context=path=gs://dtc_data_lake_swift-arcadia-387709/data/pq/green/*/*; pattern=com.google.cloud.hadoop.fs.gcs.GoogleHadoopFileSystemBase$$Lambda$1092/0x0000000800a50040@3bad5de6\n",
      "23/08/09 17:22:51 WARN GhfsStorageStatistics: Detected potential high latency for operation op_open. latencyMs=159; previousMaxLatencyMs=0; operationCount=1; context=gs://dtc_data_lake_swift-arcadia-387709/data/pq/green/2021/01/part-00000-14846b88-905c-4937-8c8e-ff5717d90d5e-c000.snappy.parquet\n",
      "23/08/09 17:22:51 WARN GhfsStorageStatistics: Detected potential high latency for operation stream_read_operations. latencyMs=421; previousMaxLatencyMs=0; operationCount=1; context=gs://dtc_data_lake_swift-arcadia-387709/data/pq/green/2021/01/part-00000-14846b88-905c-4937-8c8e-ff5717d90d5e-c000.snappy.parquet\n",
      "                                                                                \r"
     ]
    }
   ],
   "source": [
    "df_green = spark.read.parquet('gs://dtc_data_lake_swift-arcadia-387709/data/pq/green/*/*')"
   ]
  },
  {
   "cell_type": "code",
   "execution_count": 7,
   "id": "4135e284-d673-41cf-96e0-ee71fbd8d20c",
   "metadata": {},
   "outputs": [
    {
     "name": "stderr",
     "output_type": "stream",
     "text": [
      "23/08/09 17:23:09 WARN GhfsStorageStatistics: Detected potential high latency for operation op_open. latencyMs=179; previousMaxLatencyMs=159; operationCount=6; context=gs://dtc_data_lake_swift-arcadia-387709/data/pq/green/2021/07/part-00000-92b161dd-08e2-4476-8352-e70dc81dbf41-c000.snappy.parquet\n",
      "23/08/09 17:23:09 WARN GhfsStorageStatistics: Detected potential high latency for operation op_open. latencyMs=187; previousMaxLatencyMs=179; operationCount=8; context=gs://dtc_data_lake_swift-arcadia-387709/data/pq/green/2021/01/part-00002-14846b88-905c-4937-8c8e-ff5717d90d5e-c000.snappy.parquet\n",
      "23/08/09 17:23:10 WARN GhfsStorageStatistics: Detected potential high latency for operation stream_read_operations. latencyMs=426; previousMaxLatencyMs=421; operationCount=23; context=gs://dtc_data_lake_swift-arcadia-387709/data/pq/green/2021/02/part-00002-a834eec5-d00d-4fcf-b5c3-e1195aa25daf-c000.snappy.parquet\n",
      "23/08/09 17:23:10 WARN GhfsStorageStatistics: Detected potential high latency for operation stream_read_operations. latencyMs=548; previousMaxLatencyMs=426; operationCount=28; context=gs://dtc_data_lake_swift-arcadia-387709/data/pq/green/2021/05/part-00000-58dd123d-8f13-4408-9ae1-fcaeebb8cf2c-c000.snappy.parquet\n",
      "23/08/09 17:23:11 WARN GhfsStorageStatistics: Detected potential high latency for operation op_open. latencyMs=232; previousMaxLatencyMs=187; operationCount=22; context=gs://dtc_data_lake_swift-arcadia-387709/data/pq/green/2021/02/part-00000-a834eec5-d00d-4fcf-b5c3-e1195aa25daf-c000.snappy.parquet\n",
      "23/08/09 17:23:11 WARN GhfsStorageStatistics: Detected potential high latency for operation op_open. latencyMs=248; previousMaxLatencyMs=232; operationCount=22; context=gs://dtc_data_lake_swift-arcadia-387709/data/pq/green/2021/01/part-00001-14846b88-905c-4937-8c8e-ff5717d90d5e-c000.snappy.parquet\n",
      "23/08/09 17:23:11 WARN GhfsStorageStatistics: Detected potential high latency for operation op_open. latencyMs=297; previousMaxLatencyMs=248; operationCount=22; context=gs://dtc_data_lake_swift-arcadia-387709/data/pq/green/2021/04/part-00000-2a87a7a5-b385-4a47-952a-7b77c773ee56-c000.snappy.parquet\n",
      "                                                                                \r"
     ]
    },
    {
     "data": {
      "text/plain": [
       "570466"
      ]
     },
     "execution_count": 7,
     "metadata": {},
     "output_type": "execute_result"
    }
   ],
   "source": [
    "df_green.count()"
   ]
  },
  {
   "cell_type": "code",
   "execution_count": 8,
   "id": "ebc1d990-c189-4aa3-a978-ad2489f2b215",
   "metadata": {},
   "outputs": [
    {
     "name": "stderr",
     "output_type": "stream",
     "text": [
      "23/08/09 17:23:33 WARN GhfsStorageStatistics: Detected potential high latency for operation stream_read_operations. latencyMs=606; previousMaxLatencyMs=548; operationCount=343; context=gs://dtc_data_lake_swift-arcadia-387709/data/pq/green/2021/06/part-00000-1f57799b-7c87-458c-b591-05761fde3df3-c000.snappy.parquet\n",
      "                                                                                \r"
     ]
    },
    {
     "data": {
      "text/plain": [
       "Row(VendorID=None, lpep_pickup_datetime=datetime.datetime(2021, 6, 12, 7, 15), lpep_dropoff_datetime=datetime.datetime(2021, 6, 12, 7, 24), store_and_fwd_flag=None, RatecodeID=None, PULocationID=183, DOLocationID=242, passenger_count=None, trip_distance=1.69, fare_amount=13.62, extra=2.75, mta_tax=0.0, tip_amount=0.0, tolls_amount=0.0, ehail_fee=None, improvement_surcharge=0.3, total_amount=16.67, payment_type=None, trip_type=None, congestion_surcharge=None)"
      ]
     },
     "execution_count": 8,
     "metadata": {},
     "output_type": "execute_result"
    }
   ],
   "source": [
    "df_green.head()"
   ]
  },
  {
   "cell_type": "code",
   "execution_count": null,
   "id": "0ac1fd80-8f67-43c1-ba56-15f257835612",
   "metadata": {},
   "outputs": [],
   "source": []
  }
 ],
 "metadata": {
  "kernelspec": {
   "display_name": "Python 3 (ipykernel)",
   "language": "python",
   "name": "python3"
  },
  "language_info": {
   "codemirror_mode": {
    "name": "ipython",
    "version": 3
   },
   "file_extension": ".py",
   "mimetype": "text/x-python",
   "name": "python",
   "nbconvert_exporter": "python",
   "pygments_lexer": "ipython3",
   "version": "3.11.4"
  }
 },
 "nbformat": 4,
 "nbformat_minor": 5
}
